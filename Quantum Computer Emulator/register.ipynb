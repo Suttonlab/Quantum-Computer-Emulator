{
 "cells": [
  {
   "cell_type": "code",
   "execution_count": 5,
   "id": "31873eea-1971-4a50-9d50-71620fb1b72d",
   "metadata": {},
   "outputs": [],
   "source": [
    "import numpy as np\n",
    "import math\n",
    "import random"
   ]
  },
  {
   "cell_type": "code",
   "execution_count": 8,
   "id": "4f73c2ca-1723-4b60-8403-8cf2445e108d",
   "metadata": {},
   "outputs": [],
   "source": [
    "# class that create's the computational basis states, which we will then operate on.\n",
    "class register(object):\n",
    "    \"\"\"\n",
    "    Register Class, which stores all the basis state amplitudes of a qubit system.\n",
    "\n",
    "        Attributes\n",
    "        ----------\n",
    "        var : double array\n",
    "            basis amplitudes\n",
    "        size : int\n",
    "            basis size\n",
    "        qb_n : int\n",
    "            qubit count\n",
    "\n",
    "    \"\"\"\n",
    "    def __init__(self, state): \n",
    "        self.var = np.array(state,dtype=complex) \n",
    "        self.size = len(self.var) \n",
    "        self.qb_n = int(np.log2(self.size)) \n",
    "        \n",
    "    # These define how the class responds to being called, and how an index [i] will be received.\n",
    "    def __repr__(self): \n",
    "        return self.var.__repr__()\n",
    "    def __getitem__(self,key):\n",
    "        return self.var[key]\n",
    "    \n",
    "    # Functions to test the liklihood of a specific basis being measured, and one to measure the system\n",
    "    # based on RNG and the fact that the amplitudes^2 should sum to 1.\n",
    "    def basisprob(self, bs):\n",
    "        return abs(self[bs]**2)/((self.var@self.var).real)\n",
    "    def measure(self):\n",
    "        ran = np.random.random() \n",
    "        bs = 0  \n",
    "        liklihood = self.basisprob(bs)\n",
    "        while liklihood < ran:\n",
    "            if bs<(self.size-1):\n",
    "                bs += 1\n",
    "                liklihood += self.basisprob(bs)\n",
    "            else:\n",
    "                ran = np.random.random()\n",
    "                bs = 0\n",
    "                liklihood = self.basisprob(bs)\n",
    "        return bs"
   ]
  },
  {
   "cell_type": "code",
   "execution_count": 7,
   "id": "55e51e1f",
   "metadata": {},
   "outputs": [],
   "source": [
    "def given(givenstate, givenspan):\n",
    "    \"\"\"\n",
    "    Function which acts as the pointer to register class, useful for initializing systems in a given state and size.\n",
    "       \n",
    "        Parameters:\n",
    "            givenstate: int\n",
    "                which state the system is originally in\n",
    "            givenspan: int\n",
    "                basis size\n",
    "        Returns:\n",
    "            register: resiger class\n",
    "                defines\n",
    "    \n",
    "    \"\"\"\n",
    "    reg = np.zeros(givenspan,dtype=complex) # create basis of zero prob\n",
    "    reg[givenstate]=1.0 # set given basis state prob to 1 (1.0 |00....0> + 0.0 |00....1> +.. etc)\n",
    "    return register(reg) # turn this into a registery"
   ]
  }
 ],
 "metadata": {
  "kernelspec": {
   "display_name": "Python 3 (ipykernel)",
   "language": "python",
   "name": "python3"
  },
  "language_info": {
   "codemirror_mode": {
    "name": "ipython",
    "version": 3
   },
   "file_extension": ".py",
   "mimetype": "text/x-python",
   "name": "python",
   "nbconvert_exporter": "python",
   "pygments_lexer": "ipython3",
   "version": "3.10.2"
  }
 },
 "nbformat": 4,
 "nbformat_minor": 5
}
