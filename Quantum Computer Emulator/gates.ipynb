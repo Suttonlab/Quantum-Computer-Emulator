{
 "cells": [
  {
   "cell_type": "code",
   "execution_count": 25,
   "id": "b28c980d-5386-4b82-afd1-2c5b876b5eb9",
   "metadata": {},
   "outputs": [],
   "source": [
    "import import_ipynb\n",
    "import register as reg\n",
    "import numpy as np\n",
    "import math\n",
    "import register\n",
    "import distutils"
   ]
  },
  {
   "cell_type": "code",
   "execution_count": 57,
   "id": "8fe822f9-1367-4d3e-b1b4-aca9456a6da2",
   "metadata": {},
   "outputs": [],
   "source": [
    "class Gate(object):\n",
    "    \"\"\"\n",
    "    Gate class, which stores a matrix that might operate on a qubit system (via its basis state amplitudes, classical analog)\n",
    "\n",
    "        Attributes\n",
    "        ----------\n",
    "        matrix: double array\n",
    "            given a matrix of any size, this will create a new object that identifies as a Gate.\n",
    "\n",
    "    \"\"\"\n",
    "    def __init__(self, gate):\n",
    "        self.matrix = np.array(gate,complex)\n",
    "    def __repr__(self):\n",
    "        return self.matrix.__repr__()"
   ]
  },
  {
   "cell_type": "code",
   "execution_count": 62,
   "id": "caddc0d9-c3e4-41ce-a255-066306730016",
   "metadata": {},
   "outputs": [],
   "source": [
    "# Series of gates without being in Gate class for easy use, not relevant to overall program.\n",
    "idg = Gate([[1, 0], [0, 1]]) # Identity gate\n",
    "s2 = 2**(-.5) \n",
    "hg = Gate([[s2, s2], [s2, -s2]]) # Hadamard gate\n",
    "px = Gate([[0, 1], [1, 0]])\n",
    "pz = Gate([[1,0], [0,-1]])"
   ]
  },
  {
   "cell_type": "code",
   "execution_count": 76,
   "id": "80d7cb03-0a64-4961-928e-1570b6629cb9",
   "metadata": {},
   "outputs": [],
   "source": [
    "def create(qubits, gates, customkron=False):\n",
    "    \"\"\"\n",
    "    Function that creates size appropriate gates (scaled in tensor space)\n",
    "       \n",
    "    This function enables several gates to be applied as one matrix, by using Kroneker's product\n",
    "    \"qubits\" times. This is crucial in the classical setting, because we will need to find the\n",
    "    total product of all the gates before applying it to an initial registery.\n",
    "\n",
    "        Parameters:\n",
    "            qubits: int\n",
    "                size of the system in qubit count\n",
    "            gates: double array\n",
    "                which gates will be applied (matrices in this classical setting)\n",
    "        Returns:\n",
    "            combination: Gate class\n",
    "                combined gate\n",
    "    \n",
    "    \"\"\"\n",
    "    if customkron==False:\n",
    "        combination = [[1]]\n",
    "        for i in range(0,qubits):\n",
    "            combination = np.kron(gates[i].matrix, combination)\n",
    "    else:\n",
    "        combination = [[1]]\n",
    "        for i in range(0,qubits):\n",
    "            combination = kron(gates[i].matrix, combination)\n",
    "    return Gate(combination)"
   ]
  },
  {
   "cell_type": "code",
   "execution_count": 90,
   "id": "2596706b-2b20-483b-beab-75e2c73fce09",
   "metadata": {},
   "outputs": [],
   "source": [
    "def globalapp(qubits, mat):\n",
    "    \"\"\"\n",
    "    Scales a gate to the largest tensor space (apply it to all qubits)\n",
    "    \n",
    "        Parameters:\n",
    "            qubits: int\n",
    "                # of qubits\n",
    "            mat: double array\n",
    "                lists of gates to be applied (matrices in this classical setting)\n",
    "        Returns:\n",
    "            combination: Gate class\n",
    "                globally applicable gate\n",
    "            \n",
    "    \"\"\"\n",
    "    \n",
    "    count = [mat for i in range(qubits)]\n",
    "    return create(qubits,count)"
   ]
  },
  {
   "cell_type": "code",
   "execution_count": 89,
   "id": "65a58c27-4208-4cd6-a4e5-5a044640a7a9",
   "metadata": {},
   "outputs": [],
   "source": [
    "def diffusion(qubits,customouter=False):\n",
    "    \"\"\"\n",
    "    This is Grover's diffusion gate. It starts and ends with the Hadamard, \n",
    "    and in the middle is this reflector around |0> which is  2|s><s|-I. \n",
    "    \n",
    "        Parameters:\n",
    "            qubits: # of qubits\n",
    "            customeouter: Boolean\n",
    "                if true, use custom outer product\n",
    "        Returns:\n",
    "            Grover's Diffusion Gate\n",
    "            \n",
    "    \"\"\"\n",
    "    # create globally applicable hadamard and identity gates. The former will be\n",
    "    # on either side of reflector, and the latter be crucial to the reflection.\n",
    "    hgate = globalapp(qubits,hg)\n",
    "    igate = globalapp(qubits,idg)\n",
    "    \n",
    "    # Create a register in zeroth state to reflect off of. Create 2|s><s|-I matrix.\n",
    "    zedstate = reg.given(0,1<<qubits)\n",
    "    if customouter==True:\n",
    "        czero = Gate(2*outer(zedstate.var,zedstate.var)-igate.matrix)\n",
    "    else:\n",
    "        czero = Gate(2*np.outer(zedstate.var,zedstate.var)-igate.matrix)\n",
    "    \n",
    "    # Return product H -> Reflection -> H as one Diffusion matrix\n",
    "    return hgate.matrix@czero.matrix@hgate.matrix"
   ]
  },
  {
   "cell_type": "code",
   "execution_count": 52,
   "id": "ab0cb3ef-1f96-4552-b59b-898df1858e1a",
   "metadata": {},
   "outputs": [],
   "source": [
    "def idgate():\n",
    "    \"\"\"Returns Identity Gate\"\"\"\n",
    "    return Gate([[1, 0], [0, 1]])\n",
    "def hgate():\n",
    "    \"\"\"Returns Hadamard Gate\"\"\"\n",
    "    invsqr2 = 2**(-.5)\n",
    "    return Gate([[invsqr2, invsqr2], [invsqr2, -invsqr2]])"
   ]
  },
  {
   "cell_type": "code",
   "execution_count": 85,
   "id": "9676ee1e-b7c2-4e18-9fcc-bf36a3831902",
   "metadata": {},
   "outputs": [],
   "source": [
    "def outer(a,b):\n",
    "    \"\"\"\n",
    "    Function that computer outer product\n",
    "        Parameters:\n",
    "            a: double array\n",
    "            b: double array\n",
    "        \n",
    "        Returns:\n",
    "            outer: double array\n",
    "                outer product\n",
    "    \"\"\"\n",
    "    outer = np.zeros((len(a),len(b)),dtype=complex)\n",
    "    for i in range(len(a)):\n",
    "        for j in range(len(b)):\n",
    "            outer[i,j]=a[i]*b[j]\n",
    "    return outer            "
   ]
  },
  {
   "cell_type": "code",
   "execution_count": 78,
   "id": "19225309-a591-468f-888d-2d1c0e6bbf5d",
   "metadata": {},
   "outputs": [],
   "source": [
    "def kron(matrix_a, matrix_b):\n",
    "    \"\"\"\n",
    "    Function that computes Kroneker's product\n",
    "    \n",
    "        Parameters:\n",
    "            matrix_a: double array\n",
    "            matrix_b: double array\n",
    "        \n",
    "        Returns:\n",
    "            Kronecker product of two matrices\n",
    "    \"\"\"\n",
    "    a_multiplier = np.ones((np.shape(matrix_a)[0] * np.shape(matrix_b)[0], np.shape(matrix_a)[1] * np.shape(matrix_b)[1]), dtype = complex)\n",
    "    b_multiplier = np.tile(matrix_b, np.shape(matrix_a))\n",
    "    for m in range(len(a_multiplier)):\n",
    "        for n in range(len(a_multiplier[0])):\n",
    "            a_multiplier[m][n] = matrix_a[int(m/len(matrix_b))][int(n/len(matrix_b[0]))]\n",
    "    return a_multiplier*b_multiplier"
   ]
  },
  {
   "cell_type": "code",
   "execution_count": 53,
   "id": "9b830d2b-47e9-4f39-975a-3ecd03c04ab1",
   "metadata": {},
   "outputs": [],
   "source": [
    "def oracle(qubits, key):\n",
    "    \"\"\"Returns Oracle Gate w/Identity Method\"\"\"\n",
    "    eye = np.eye(qubits,dtype=complex)\n",
    "    eye[key,key]=-1.0\n",
    "    return eye"
   ]
  },
  {
   "cell_type": "code",
   "execution_count": 64,
   "id": "14cb6050-6a6d-45df-87ab-98bb8a2460e7",
   "metadata": {},
   "outputs": [],
   "source": [
    "def ft(qubits):\n",
    "    \"\"\"\n",
    "    Returns Quantum Fourier Transform Gate\n",
    "        Parameters:\n",
    "            qubits: int\n",
    "                # of qubits in system\n",
    "        Returns:\n",
    "            QFT gate: Gate class\n",
    "            \n",
    "    This will first create out unit omega (w)^((2)(pi)(i)/n)\n",
    "    where n is basis size. It will then go through each point\n",
    "    on an nxn lattice and multiply by the row/col to replicate\n",
    "    a QFT. Proper normalization factor is included at the end.\n",
    "    \"\"\"\n",
    "    n = 1<<qubits  \n",
    "    w = np.exp(2.0 * np.pi * 1j / n) \n",
    "    fgate=np.zeros((n,n),complex)\n",
    "    for i in range(n):\n",
    "        for j in range(n):\n",
    "            fgate[i,j]=(w ** (i*j))\n",
    "    fgate = fgate / np.sqrt(n) \n",
    "    return Gate(fgate)"
   ]
  }
 ],
 "metadata": {
  "kernelspec": {
   "display_name": "Python 3 (ipykernel)",
   "language": "python",
   "name": "python3"
  },
  "language_info": {
   "codemirror_mode": {
    "name": "ipython",
    "version": 3
   },
   "file_extension": ".py",
   "mimetype": "text/x-python",
   "name": "python",
   "nbconvert_exporter": "python",
   "pygments_lexer": "ipython3",
   "version": "3.10.2"
  }
 },
 "nbformat": 4,
 "nbformat_minor": 5
}
