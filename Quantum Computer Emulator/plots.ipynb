{
 "cells": [
  {
   "cell_type": "code",
   "execution_count": 1,
   "id": "7f992d9c-ee42-4687-a47f-703bc4bbebf7",
   "metadata": {},
   "outputs": [
    {
     "name": "stdout",
     "output_type": "stream",
     "text": [
      "importing Jupyter notebook from gates.ipynb\n",
      "importing Jupyter notebook from register.ipynb\n",
      "importing Jupyter notebook from grover.ipynb\n",
      "importing Jupyter notebook from Shor.ipynb\n"
     ]
    }
   ],
   "source": [
    "import import_ipynb\n",
    "import numpy as np\n",
    "import math\n",
    "import matplotlib.pyplot as plt\n",
    "import gates as gate\n",
    "import register as reg\n",
    "from grover import grover \n",
    "import Shor\n",
    "import random\n",
    "plt.style.use('dark_background')"
   ]
  },
  {
   "cell_type": "code",
   "execution_count": 13,
   "id": "6c9853ce-7f18-44ae-ac85-f62979fc0dc9",
   "metadata": {},
   "outputs": [],
   "source": [
    "def gplot(circuit_end,span,key_value):\n",
    "    \"\"\"\n",
    "    This is a plotting scheme for a Grover's algorithm demonstration. It can either take a single\n",
    "    ideal key value, or several, plotting all the amplitudes and ideal value. More plotting exists \n",
    "    in the \"active\" library, which is mostly applied visualisations for various \n",
    "    presentation/demonstration purposes.\n",
    "    \"\"\"\n",
    "    qubit_count=np.log2(span)\n",
    "    plt.title(\"Grover's Algorithm Search Results\")\n",
    "    plt.scatter(range(span), np.absolute(circuit_end.var)**2, color='b',alpha=.9,label=\"Predicted\")\n",
    "    if isinstance(key_value, int)==True:\n",
    "        plt.axvline(key_value,c='r',alpha=.4, label=\"True\")\n",
    "    else:\n",
    "        for i in range(len(key_value)):\n",
    "            plt.axvline(key_value[i],c='r',alpha=.8)\n",
    "            if i==len(key_value)-1:\n",
    "                plt.axvline(key_value[i],c='r',alpha=.4, label=\"True\")\n",
    "    plt.ylabel(\"Probability\")\n",
    "    plt.xlabel(\"Indices\")\n",
    "    plt.plot([], [], ' ', label='Searched %.2d states' %span)\n",
    "    plt.plot([], [], ' ', label='in %.2d iterations with' %int(np.pi*np.sqrt(span)/4.0))\n",
    "    plt.plot([], [], ' ', label='%.2d Qubits' %(qubit_count))\n",
    "    plt.legend()\n",
    "    plt.axis([-.5,circuit_end.size,0,1.0])#min(np.absolute(circuit_end.var)),1.0])"
   ]
  }
 ],
 "metadata": {
  "kernelspec": {
   "display_name": "Python 3 (ipykernel)",
   "language": "python",
   "name": "python3"
  },
  "language_info": {
   "codemirror_mode": {
    "name": "ipython",
    "version": 3
   },
   "file_extension": ".py",
   "mimetype": "text/x-python",
   "name": "python",
   "nbconvert_exporter": "python",
   "pygments_lexer": "ipython3",
   "version": "3.10.2"
  }
 },
 "nbformat": 4,
 "nbformat_minor": 5
}
